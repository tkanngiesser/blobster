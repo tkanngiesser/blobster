{
 "cells": [
  {
   "cell_type": "code",
   "execution_count": null,
   "metadata": {},
   "outputs": [
    {
     "name": "stdout",
     "output_type": "stream",
     "text": [
      "The autoreload extension is already loaded. To reload it, use:\n",
      "  %reload_ext autoreload\n"
     ]
    }
   ],
   "source": [
    "import warnings\n",
    "warnings.filterwarnings('ignore')\n",
    "%load_ext autoreload\n",
    "%autoreload 2"
   ]
  },
  {
   "cell_type": "code",
   "execution_count": null,
   "metadata": {},
   "outputs": [],
   "source": [
    "import os\n",
    "import sys\n",
    "module_path = os.path.abspath(os.path.join('..'))\n",
    "if module_path not in sys.path: sys.path.append(module_path)\n",
    "import pandas as pd\n",
    "import pandas_flavor as pf\n",
    "from vfu_package.datapipeline import *"
   ]
  },
  {
   "cell_type": "code",
   "execution_count": null,
   "metadata": {},
   "outputs": [],
   "source": [
    "datapipe.service = 'vfu'\n",
    "datapipe.runtime = 'local'"
   ]
  },
  {
   "cell_type": "markdown",
   "metadata": {},
   "source": [
    "### Items"
   ]
  },
  {
   "cell_type": "code",
   "execution_count": null,
   "metadata": {},
   "outputs": [],
   "source": [
    "@pf.register_dataframe_method\n",
    "def step_consolidate_item_learning_levels(df, col, mapping=None):\n",
    "    if mapping:\n",
    "        learning_level_names = mapping\n",
    "    else:\n",
    "        learning_level_names = {'1': '1:Core', '2':'2:Intermediate', '3':'3:Advanced',\n",
    "                    '4':'4:Expert', 'SCM Essentials':'1:Core', '5':'5:Others'}\n",
    "    df[col] = df[col].str.split(' ').str[0]\n",
    "    df[col] = np.where(df[col] == '', 'Missing Info', df[col])\n",
    "    df[col] = df[col].map(learning_level_names)  \n",
    "    df[col] = df[col].fillna(value='Missing Info')\n",
    "    return df"
   ]
  },
  {
   "cell_type": "code",
   "execution_count": null,
   "metadata": {},
   "outputs": [],
   "source": [
    "datapipe.entity = 'assets'"
   ]
  },
  {
   "cell_type": "markdown",
   "metadata": {},
   "source": [
    "#### loading raw data:"
   ]
  },
  {
   "cell_type": "code",
   "execution_count": null,
   "metadata": {},
   "outputs": [],
   "source": [
    "items_raw = (pd.DataFrame()\n",
    "             .step_load_entity_definition()\n",
    "             .step_load_raw_data()\n",
    "             .step_rename_columns()\n",
    "            )"
   ]
  },
  {
   "cell_type": "markdown",
   "metadata": {},
   "source": [
    "#### generating raw data profile report"
   ]
  },
  {
   "cell_type": "code",
   "execution_count": null,
   "metadata": {},
   "outputs": [],
   "source": [
    "#items_raw_profile_report = datapipe.generate_profile_report(df=items_raw, mode='Raw')"
   ]
  },
  {
   "cell_type": "markdown",
   "metadata": {},
   "source": [
    "#### check if any invalid data:"
   ]
  },
  {
   "cell_type": "code",
   "execution_count": null,
   "metadata": {},
   "outputs": [],
   "source": [
    "items_invalid = (items_raw\n",
    "                 .step_replace_missing_values_with_nan()\n",
    "                 .step_validate_data()\n",
    "                 .step_store_invalid_data()\n",
    "                )"
   ]
  },
  {
   "cell_type": "markdown",
   "metadata": {},
   "source": [
    "#### cleaning data:"
   ]
  },
  {
   "cell_type": "code",
   "execution_count": null,
   "metadata": {},
   "outputs": [],
   "source": [
    "items_raw.modified"
   ]
  },
  {
   "cell_type": "code",
   "execution_count": null,
   "metadata": {},
   "outputs": [],
   "source": [
    "items_cleaned = (items_raw\n",
    "                 .step_replace_missing_values_with_nan()\n",
    "                 .step_remove_not_needed_columns()\n",
    "                 .step_remove_rows_with_invalid_ids()\n",
    "                 .step_remove_duplicate_rows()\n",
    "                 #.step_format_dates(cols=['created'], date_format='%m/%d/%Y')\n",
    "                 .step_format_dates(cols=['created'])\n",
    "                 #.step_format_dates(cols=['modified'], date_format='%Y-%m-%d')\n",
    "                 .step_format_dates(cols=['modified'])\n",
    "                 .step_format_round_numeric_column(col='average_rating', decimal_places=2)\n",
    "                 .step_change_datatypes()\n",
    "                 .step_consolidate_item_learning_levels(col='learning_level', mapping=None)\n",
    "                 .step_store_cleaned_data()\n",
    "                )"
   ]
  },
  {
   "cell_type": "markdown",
   "metadata": {},
   "source": [
    "#### generating profile report of cleaned data"
   ]
  },
  {
   "cell_type": "code",
   "execution_count": null,
   "metadata": {},
   "outputs": [],
   "source": [
    "items_cleaned_profile_report = datapipe.generate_profile_report(df=items_cleaned,\n",
    "                                                                mode='Cleaned', \n",
    "                                                                save_to='../data/dataquality/')"
   ]
  },
  {
   "cell_type": "code",
   "execution_count": null,
   "metadata": {},
   "outputs": [],
   "source": [
    "items_academy_df = pd.DataFrame(items_cleaned.academy.unique(), columns=['Current Academy Name'])\n",
    "items_academy_df['Consolidated Academy Name'] = None\n",
    "items_academy_df.to_excel('../data/dataquality/vfu-streamline-academy-names.xlsx')"
   ]
  },
  {
   "cell_type": "markdown",
   "metadata": {},
   "source": [
    "### nps"
   ]
  },
  {
   "cell_type": "code",
   "execution_count": null,
   "metadata": {},
   "outputs": [],
   "source": [
    "datapipe.entity = 'nps'"
   ]
  },
  {
   "cell_type": "markdown",
   "metadata": {},
   "source": [
    "#### loading raw data:"
   ]
  },
  {
   "cell_type": "code",
   "execution_count": null,
   "metadata": {},
   "outputs": [],
   "source": [
    "nps_raw = (pd.DataFrame()\n",
    "             .step_load_entity_definition()\n",
    "             .step_load_raw_data()\n",
    "             .step_rename_columns()\n",
    "            )"
   ]
  },
  {
   "cell_type": "markdown",
   "metadata": {},
   "source": [
    "#### generating profile report of raw data"
   ]
  },
  {
   "cell_type": "code",
   "execution_count": null,
   "metadata": {},
   "outputs": [],
   "source": [
    "nps_raw_profile_report = datapipe.generate_profile_report(df=nps_raw, mode='Raw')"
   ]
  },
  {
   "cell_type": "markdown",
   "metadata": {},
   "source": [
    "#### check if any invalid data:"
   ]
  },
  {
   "cell_type": "code",
   "execution_count": null,
   "metadata": {},
   "outputs": [],
   "source": [
    "nps_invalid = (nps_raw\n",
    "                 .step_replace_missing_values_with_nan()\n",
    "                 .step_validate_data()\n",
    "                 .step_store_invalid_data()\n",
    "                )"
   ]
  },
  {
   "cell_type": "markdown",
   "metadata": {},
   "source": [
    "#### cleaning data:"
   ]
  },
  {
   "cell_type": "code",
   "execution_count": null,
   "metadata": {},
   "outputs": [],
   "source": [
    "nps_cleaned = (nps_raw\n",
    "                 .step_replace_missing_values_with_nan()\n",
    "                 .step_remove_not_needed_columns()\n",
    "                 .step_remove_rows_with_invalid_ids()\n",
    "                 .step_remove_duplicate_rows()\n",
    "                 .step_format_dates(cols=['modified'])\n",
    "                 .step_format_dates(cols=['created'])\n",
    "                 .step_change_datatypes()\n",
    "                 .step_store_cleaned_data()\n",
    "                )"
   ]
  },
  {
   "cell_type": "markdown",
   "metadata": {},
   "source": [
    "#### generating profile report of cleaned data"
   ]
  },
  {
   "cell_type": "code",
   "execution_count": null,
   "metadata": {},
   "outputs": [],
   "source": [
    "nps_cleaned_profile_report = datapipe.generate_profile_report(df=nps_cleaned, mode='Cleaned')"
   ]
  },
  {
   "cell_type": "markdown",
   "metadata": {},
   "source": [
    "### lms-asset-events \n",
    "* data about items completed or not completed\n",
    "* in progress and assigned data is currently provided in separate files"
   ]
  },
  {
   "cell_type": "markdown",
   "metadata": {},
   "source": [
    "#### lms-asset-events specific functions:"
   ]
  },
  {
   "cell_type": "code",
   "execution_count": null,
   "metadata": {},
   "outputs": [],
   "source": [
    "@pf.register_dataframe_method\n",
    "def step_consolidate_lms_item_assignment_types(df, col, mapping=None):\n",
    "    \n",
    "    if mapping:\n",
    "        assignment_type_names = mapping\n",
    "    else:\n",
    "        assignment_type_names = {'OPT': 'Optional', 'REC':'Recommended', 'REQ':'Mandatory'}\n",
    "    df[col] = df[col].str.split(' ').str[0]\n",
    "    df[col] = np.where(df[col] == '', 'Optional', df[col])\n",
    "    df[col] = df[col].map(assignment_type_names)  \n",
    "    df[col] = df[col].fillna(value='Optional')\n",
    "\n",
    "    return df"
   ]
  },
  {
   "cell_type": "code",
   "execution_count": null,
   "metadata": {},
   "outputs": [],
   "source": [
    "datapipe.entity = 'lms-asset-events'"
   ]
  },
  {
   "cell_type": "markdown",
   "metadata": {},
   "source": [
    "#### loading raw data:"
   ]
  },
  {
   "cell_type": "code",
   "execution_count": null,
   "metadata": {},
   "outputs": [],
   "source": [
    "pd.DataFrame().step_load_entity_definition()"
   ]
  },
  {
   "cell_type": "code",
   "execution_count": null,
   "metadata": {},
   "outputs": [],
   "source": [
    "lms_items_completed_raw = (pd.DataFrame()\n",
    "             .step_load_entity_definition()\n",
    "             .step_load_raw_data()\n",
    "             .step_rename_columns()\n",
    "            )\n",
    "#lms_items_completed_raw_profile_report = datapipe.generate_profile_report(df=items_raw, mode='Raw')"
   ]
  },
  {
   "cell_type": "markdown",
   "metadata": {},
   "source": [
    "#### generating profile report of raw data"
   ]
  },
  {
   "cell_type": "markdown",
   "metadata": {},
   "source": [
    "#### check if any invalid data:"
   ]
  },
  {
   "cell_type": "code",
   "execution_count": null,
   "metadata": {},
   "outputs": [],
   "source": [
    "lms_items_completed_invalid = (lms_items_completed_raw\n",
    "                               .step_replace_missing_values_with_nan()\n",
    "                               .step_validate_data()\n",
    "                               .step_store_invalid_data()\n",
    "                              )"
   ]
  },
  {
   "cell_type": "markdown",
   "metadata": {},
   "source": [
    "#### cleaning data:"
   ]
  },
  {
   "cell_type": "code",
   "execution_count": null,
   "metadata": {},
   "outputs": [],
   "source": [
    "lms_items_completed_cleaned = (lms_items_completed_raw\n",
    "                               .step_replace_missing_values_with_nan()\n",
    "                               .step_remove_not_needed_columns()\n",
    "                               .step_remove_rows_with_invalid_ids()\n",
    "                               .step_remove_duplicate_rows()\n",
    "                               .step_format_dates(cols=['completion_date'])\n",
    "                               .step_consolidate_lms_item_assignment_types(col='assignment_type')\n",
    "                               .step_change_datatypes()\n",
    "                               .step_store_cleaned_data()\n",
    "                              )"
   ]
  },
  {
   "cell_type": "code",
   "execution_count": null,
   "metadata": {},
   "outputs": [],
   "source": [
    "lms_items_completed_cleaned.item_title.str.contains('DRW').sum()"
   ]
  },
  {
   "cell_type": "markdown",
   "metadata": {},
   "source": [
    "#### generating profile report of cleaned data"
   ]
  },
  {
   "cell_type": "code",
   "execution_count": null,
   "metadata": {},
   "outputs": [],
   "source": []
  },
  {
   "cell_type": "markdown",
   "metadata": {},
   "source": [
    "### page hits"
   ]
  },
  {
   "cell_type": "code",
   "execution_count": null,
   "metadata": {},
   "outputs": [],
   "source": [
    "datapipe.entity = 'page-hits'"
   ]
  },
  {
   "cell_type": "code",
   "execution_count": null,
   "metadata": {},
   "outputs": [],
   "source": [
    "page_hits_raw = (pd.DataFrame()\n",
    "                 .step_load_entity_definition()\n",
    "                 .step_load_raw_data()\n",
    "                 .step_rename_columns()\n",
    "                )"
   ]
  },
  {
   "cell_type": "code",
   "execution_count": null,
   "metadata": {},
   "outputs": [],
   "source": [
    "page_hits_invalid = (page_hits_raw\n",
    "                     .step_replace_missing_values_with_nan()\n",
    "                     .step_validate_data()\n",
    "                     .step_store_invalid_data()\n",
    "                    )"
   ]
  },
  {
   "cell_type": "code",
   "execution_count": null,
   "metadata": {},
   "outputs": [],
   "source": [
    "page_hits_cleaned = (page_hits_raw\n",
    "                     .step_replace_missing_values_with_nan()\n",
    "                     .step_remove_not_needed_columns()\n",
    "                     .step_remove_rows_with_invalid_ids()\n",
    "                     .step_remove_duplicate_rows()\n",
    "                     .step_change_datatypes()\n",
    "                     .step_store_cleaned_data()\n",
    "                )"
   ]
  },
  {
   "cell_type": "markdown",
   "metadata": {},
   "source": [
    "### global-navigation"
   ]
  },
  {
   "cell_type": "code",
   "execution_count": null,
   "metadata": {},
   "outputs": [],
   "source": [
    "datapipe.entity = 'global-navigation'"
   ]
  },
  {
   "cell_type": "code",
   "execution_count": null,
   "metadata": {},
   "outputs": [],
   "source": [
    "global_navigation_raw = (pd.DataFrame()\n",
    "                         .step_load_entity_definition()\n",
    "                         .step_load_raw_data()\n",
    "                         .step_rename_columns()\n",
    "                        )"
   ]
  },
  {
   "cell_type": "code",
   "execution_count": null,
   "metadata": {},
   "outputs": [],
   "source": [
    "global_navigation_invalid = (global_navigation_raw\n",
    "                             .step_replace_missing_values_with_nan()\n",
    "                             .step_validate_data()\n",
    "                             .step_store_invalid_data()\n",
    "                            )"
   ]
  },
  {
   "cell_type": "code",
   "execution_count": null,
   "metadata": {},
   "outputs": [],
   "source": [
    "global_navigation_cleaned = (global_navigation_raw\n",
    "                             .step_replace_missing_values_with_nan()\n",
    "                             .step_remove_not_needed_columns()\n",
    "                             .step_remove_rows_with_invalid_ids()\n",
    "                             .step_remove_duplicate_rows()\n",
    "                             .step_change_datatypes()\n",
    "                             .step_store_cleaned_data()\n",
    "                            )"
   ]
  },
  {
   "cell_type": "code",
   "execution_count": null,
   "metadata": {},
   "outputs": [],
   "source": [
    "global_navigation_cleaned.head()"
   ]
  },
  {
   "cell_type": "markdown",
   "metadata": {},
   "source": [
    "### search-page"
   ]
  },
  {
   "cell_type": "code",
   "execution_count": null,
   "metadata": {},
   "outputs": [],
   "source": [
    "datapipe.entity = 'search-page'"
   ]
  },
  {
   "cell_type": "code",
   "execution_count": null,
   "metadata": {},
   "outputs": [],
   "source": [
    "search_page_raw = (pd.DataFrame()\n",
    "                   .step_load_entity_definition()\n",
    "                   .step_load_raw_data()\n",
    "                   .step_rename_columns()\n",
    "                  )"
   ]
  },
  {
   "cell_type": "code",
   "execution_count": null,
   "metadata": {},
   "outputs": [],
   "source": [
    "search_page_invalid = (search_page_raw\n",
    "                       .step_replace_missing_values_with_nan()\n",
    "                       .step_validate_data()\n",
    "                       .step_store_invalid_data()\n",
    "                      )"
   ]
  },
  {
   "cell_type": "code",
   "execution_count": null,
   "metadata": {},
   "outputs": [],
   "source": [
    "search_page_cleaned = (search_page_raw\n",
    "                       .step_replace_missing_values_with_nan()\n",
    "                       .step_remove_not_needed_columns()\n",
    "                       .step_remove_rows_with_invalid_ids()\n",
    "                       .step_remove_duplicate_rows()\n",
    "                       .step_change_datatypes()\n",
    "                       .step_store_cleaned_data()\n",
    "                      )"
   ]
  },
  {
   "cell_type": "markdown",
   "metadata": {},
   "source": [
    "### of-course-me-launches"
   ]
  },
  {
   "cell_type": "code",
   "execution_count": null,
   "metadata": {},
   "outputs": [],
   "source": [
    "datapipe.entity = 'of-course-me-launches'"
   ]
  },
  {
   "cell_type": "code",
   "execution_count": null,
   "metadata": {},
   "outputs": [],
   "source": [
    "of_course_me_launches_raw = (pd.DataFrame()\n",
    "                             .step_load_entity_definition()\n",
    "                             .step_load_raw_data()\n",
    "                             .step_rename_columns()\n",
    "                            )"
   ]
  },
  {
   "cell_type": "code",
   "execution_count": null,
   "metadata": {},
   "outputs": [],
   "source": [
    "of_course_me_launches_invalid = (of_course_me_launches_raw\n",
    "                                 .step_replace_missing_values_with_nan()\n",
    "                                 .step_validate_data()\n",
    "                                 .step_store_invalid_data()\n",
    "                                )"
   ]
  },
  {
   "cell_type": "code",
   "execution_count": null,
   "metadata": {},
   "outputs": [],
   "source": [
    "of_course_me_launches_cleaned = (of_course_me_launches_raw\n",
    "                                 .step_replace_missing_values_with_nan()\n",
    "                                 .step_remove_not_needed_columns()\n",
    "                                 .step_remove_rows_with_invalid_ids()\n",
    "                                 .step_remove_duplicate_rows()\n",
    "                                 .step_change_datatypes()\n",
    "                                 .step_store_cleaned_data()\n",
    "                                )"
   ]
  },
  {
   "cell_type": "markdown",
   "metadata": {},
   "source": [
    "### home-academy-sections"
   ]
  },
  {
   "cell_type": "code",
   "execution_count": null,
   "metadata": {},
   "outputs": [],
   "source": [
    "datapipe.entity = 'home-academy-sections'"
   ]
  },
  {
   "cell_type": "code",
   "execution_count": null,
   "metadata": {},
   "outputs": [],
   "source": [
    "home_academy_sections_raw = (pd.DataFrame()\n",
    "                             .step_load_entity_definition()\n",
    "                             .step_load_raw_data()\n",
    "                             .step_rename_columns()\n",
    "                            )"
   ]
  },
  {
   "cell_type": "code",
   "execution_count": null,
   "metadata": {},
   "outputs": [],
   "source": [
    "home_academy_sections_invalid = (home_academy_sections_raw\n",
    "                                 .step_replace_missing_values_with_nan()\n",
    "                                 .step_validate_data()\n",
    "                                 .step_store_invalid_data()\n",
    "                                )"
   ]
  },
  {
   "cell_type": "code",
   "execution_count": null,
   "metadata": {},
   "outputs": [],
   "source": [
    "home_academy_sections_cleaned = (home_academy_sections_raw\n",
    "                                 .step_replace_missing_values_with_nan()\n",
    "                                 .step_remove_not_needed_columns()\n",
    "                                 .step_remove_rows_with_invalid_ids()\n",
    "                                 .step_remove_duplicate_rows()\n",
    "                                 .step_change_datatypes()\n",
    "                                 .step_store_cleaned_data()\n",
    "                                )"
   ]
  },
  {
   "cell_type": "markdown",
   "metadata": {},
   "source": [
    "### traffic-sources"
   ]
  },
  {
   "cell_type": "code",
   "execution_count": null,
   "metadata": {},
   "outputs": [],
   "source": [
    "datapipe.entity = 'traffic-sources'"
   ]
  },
  {
   "cell_type": "code",
   "execution_count": null,
   "metadata": {},
   "outputs": [],
   "source": [
    "traffic_sources_raw = (pd.DataFrame()\n",
    "                       .step_load_entity_definition()\n",
    "                       .step_load_raw_data()\n",
    "                       .step_rename_columns()\n",
    "                      )"
   ]
  },
  {
   "cell_type": "code",
   "execution_count": null,
   "metadata": {},
   "outputs": [],
   "source": [
    "traffic_sources_invalid = (traffic_sources_raw\n",
    "                           .step_replace_missing_values_with_nan()\n",
    "                           .step_validate_data()\n",
    "                           .step_store_invalid_data()\n",
    "                          )"
   ]
  },
  {
   "cell_type": "code",
   "execution_count": null,
   "metadata": {},
   "outputs": [],
   "source": [
    "traffic_sources_cleaned = (traffic_sources_raw\n",
    "                           .step_replace_missing_values_with_nan()\n",
    "                           .step_remove_not_needed_columns()\n",
    "                           .step_remove_rows_with_invalid_ids()\n",
    "                           .step_remove_duplicate_rows()\n",
    "                           .step_change_datatypes()\n",
    "                           .step_store_cleaned_data()\n",
    "                          )"
   ]
  },
  {
   "cell_type": "markdown",
   "metadata": {},
   "source": [
    "### ga-users"
   ]
  },
  {
   "cell_type": "code",
   "execution_count": null,
   "metadata": {},
   "outputs": [],
   "source": [
    "datapipe.entity = 'ga-users'"
   ]
  },
  {
   "cell_type": "code",
   "execution_count": null,
   "metadata": {},
   "outputs": [],
   "source": [
    "ga_users_raw = (pd.DataFrame()\n",
    "                .step_load_entity_definition()\n",
    "                .step_load_raw_data()\n",
    "                .step_rename_columns()\n",
    "               )"
   ]
  },
  {
   "cell_type": "code",
   "execution_count": null,
   "metadata": {},
   "outputs": [],
   "source": [
    "ga_users_invalid = (ga_users_raw\n",
    "                    .step_replace_missing_values_with_nan()\n",
    "                    .step_validate_data()\n",
    "                    .step_store_invalid_data()\n",
    "                   )"
   ]
  },
  {
   "cell_type": "code",
   "execution_count": null,
   "metadata": {},
   "outputs": [],
   "source": [
    "ga_users_cleaned = (ga_users_raw\n",
    "                    .step_replace_missing_values_with_nan()\n",
    "                    .step_remove_not_needed_columns()\n",
    "                    .step_remove_rows_with_invalid_ids()\n",
    "                    .step_remove_duplicate_rows()\n",
    "                    .step_change_datatypes()\n",
    "                    .step_store_cleaned_data()\n",
    "                   )"
   ]
  },
  {
   "cell_type": "markdown",
   "metadata": {},
   "source": [
    "### asset-implicit-ratings"
   ]
  },
  {
   "cell_type": "code",
   "execution_count": null,
   "metadata": {},
   "outputs": [],
   "source": [
    "datapipe.entity = 'asset-implicit-ratings'"
   ]
  },
  {
   "cell_type": "code",
   "execution_count": null,
   "metadata": {},
   "outputs": [],
   "source": [
    "asset_implicit_ratings_raw = (pd.DataFrame()\n",
    "                              .step_load_entity_definition()\n",
    "                              .step_load_raw_data()\n",
    "                              .step_rename_columns()\n",
    "                             )"
   ]
  },
  {
   "cell_type": "code",
   "execution_count": null,
   "metadata": {},
   "outputs": [],
   "source": [
    "asset_implicit_ratings_invalid = (asset_implicit_ratings_raw\n",
    "                                  .step_replace_missing_values_with_nan()\n",
    "                                  .step_validate_data()\n",
    "                                  .step_store_invalid_data()\n",
    "                                 )"
   ]
  },
  {
   "cell_type": "code",
   "execution_count": null,
   "metadata": {},
   "outputs": [],
   "source": [
    "asset_implicit_ratings_cleaned = (asset_implicit_ratings_raw\n",
    "                                  .step_replace_missing_values_with_nan()\n",
    "                                  .step_remove_not_needed_columns()\n",
    "                                  .step_remove_rows_with_invalid_ids()\n",
    "                                  .step_remove_duplicate_rows()\n",
    "                                  .step_change_datatypes()\n",
    "                                  .step_store_cleaned_data()\n",
    "                                 )"
   ]
  },
  {
   "cell_type": "markdown",
   "metadata": {},
   "source": [
    "### lms-items-in-progress"
   ]
  },
  {
   "cell_type": "code",
   "execution_count": null,
   "metadata": {},
   "outputs": [],
   "source": [
    "datapipe.entity = 'lms-assets-in-progress'"
   ]
  },
  {
   "cell_type": "code",
   "execution_count": null,
   "metadata": {},
   "outputs": [
    {
     "data": {
      "text/html": [
       "<div>\n",
       "<style scoped>\n",
       "    .dataframe tbody tr th:only-of-type {\n",
       "        vertical-align: middle;\n",
       "    }\n",
       "\n",
       "    .dataframe tbody tr th {\n",
       "        vertical-align: top;\n",
       "    }\n",
       "\n",
       "    .dataframe thead th {\n",
       "        text-align: right;\n",
       "    }\n",
       "</style>\n",
       "<table border=\"1\" class=\"dataframe\">\n",
       "  <thead>\n",
       "    <tr style=\"text-align: right;\">\n",
       "      <th></th>\n",
       "      <th>column_name_raw</th>\n",
       "      <th>entity</th>\n",
       "      <th>column_name_clean</th>\n",
       "      <th>column_name_dashboard</th>\n",
       "      <th>unique_identifier</th>\n",
       "      <th>mandatory_field</th>\n",
       "      <th>to_be_removed</th>\n",
       "      <th>datatype</th>\n",
       "      <th>Possible Values</th>\n",
       "      <th>description</th>\n",
       "      <th>Status2</th>\n",
       "      <th>Needed actions</th>\n",
       "    </tr>\n",
       "  </thead>\n",
       "  <tbody>\n",
       "  </tbody>\n",
       "</table>\n",
       "</div>"
      ],
      "text/plain": [
       "Empty DataFrame\n",
       "Columns: [column_name_raw, entity, column_name_clean, column_name_dashboard, unique_identifier, mandatory_field, to_be_removed, datatype, Possible Values, description, Status2, Needed actions]\n",
       "Index: []"
      ]
     },
     "execution_count": null,
     "metadata": {},
     "output_type": "execute_result"
    }
   ],
   "source": [
    "datapipe.definition"
   ]
  },
  {
   "cell_type": "code",
   "execution_count": null,
   "metadata": {},
   "outputs": [
    {
     "data": {
      "text/html": [
       "<div>\n",
       "<style scoped>\n",
       "    .dataframe tbody tr th:only-of-type {\n",
       "        vertical-align: middle;\n",
       "    }\n",
       "\n",
       "    .dataframe tbody tr th {\n",
       "        vertical-align: top;\n",
       "    }\n",
       "\n",
       "    .dataframe thead th {\n",
       "        text-align: right;\n",
       "    }\n",
       "</style>\n",
       "<table border=\"1\" class=\"dataframe\">\n",
       "  <thead>\n",
       "    <tr style=\"text-align: right;\">\n",
       "      <th></th>\n",
       "      <th>STUD_ID</th>\n",
       "      <th>LNAME</th>\n",
       "      <th>FNAME</th>\n",
       "      <th>EMAIL_ADDR</th>\n",
       "      <th>ITEM ID</th>\n",
       "      <th>ITEM TYPE</th>\n",
       "      <th>REV_DTE</th>\n",
       "      <th>REV_NUM</th>\n",
       "      <th>ITEM Market\\r\\n</th>\n",
       "      <th>Item Title</th>\n",
       "      <th>...</th>\n",
       "      <th>Manager</th>\n",
       "      <th>MGR_EMAIL_ADDR</th>\n",
       "      <th>DELIVERY_TYPE\\r\\n</th>\n",
       "      <th>ACADEMY</th>\n",
       "      <th>LOCAL_CODE</th>\n",
       "      <th>FUNCTION</th>\n",
       "      <th>BAND</th>\n",
       "      <th>COSTCENTRE</th>\n",
       "      <th>User_Location</th>\n",
       "      <th>Assignment_TYPE</th>\n",
       "    </tr>\n",
       "  </thead>\n",
       "  <tbody>\n",
       "    <tr>\n",
       "      <th>0</th>\n",
       "      <td>10250246</td>\n",
       "      <td>Ford</td>\n",
       "      <td>Graeme</td>\n",
       "      <td>GRAEME.FORD@VODAFONE.COM</td>\n",
       "      <td>6265740</td>\n",
       "      <td>COURSE</td>\n",
       "      <td>5 Jun 2019 05:34</td>\n",
       "      <td>1</td>\n",
       "      <td>VF_GB01</td>\n",
       "      <td>What: Future Capabilities</td>\n",
       "      <td>...</td>\n",
       "      <td>1.03323e+07</td>\n",
       "      <td>BENJAMIN.DAVIES@VODAFONE.COM</td>\n",
       "      <td>CONTINUOUS ONLINE ACCESS</td>\n",
       "      <td>TE</td>\n",
       "      <td>NaN</td>\n",
       "      <td>Local Technology (TE00)</td>\n",
       "      <td>H</td>\n",
       "      <td>Transport Operations (GB07017010)</td>\n",
       "      <td>At Customer Location (UK617)</td>\n",
       "      <td>NaN</td>\n",
       "    </tr>\n",
       "    <tr>\n",
       "      <th>1</th>\n",
       "      <td>10250246</td>\n",
       "      <td>Ford</td>\n",
       "      <td>Graeme</td>\n",
       "      <td>GRAEME.FORD@VODAFONE.COM</td>\n",
       "      <td>1760779857</td>\n",
       "      <td>COURSE</td>\n",
       "      <td>23 Aug 2017 12:00</td>\n",
       "      <td>1</td>\n",
       "      <td>VF</td>\n",
       "      <td>TCP and UDP Operation for Cisco CCNA 200-125/1...</td>\n",
       "      <td>...</td>\n",
       "      <td>1.03323e+07</td>\n",
       "      <td>BENJAMIN.DAVIES@VODAFONE.COM</td>\n",
       "      <td>CONTINUOUS ONLINE ACCESS</td>\n",
       "      <td>Local Technology (TE00)</td>\n",
       "      <td>Transport Operations (GB07017010)</td>\n",
       "      <td>TE</td>\n",
       "      <td>H</td>\n",
       "      <td>Networks</td>\n",
       "      <td>At Customer Location (UK617)</td>\n",
       "      <td>NaN</td>\n",
       "    </tr>\n",
       "    <tr>\n",
       "      <th>2</th>\n",
       "      <td>10250246</td>\n",
       "      <td>Ford</td>\n",
       "      <td>Graeme</td>\n",
       "      <td>GRAEME.FORD@VODAFONE.COM</td>\n",
       "      <td>1201269208</td>\n",
       "      <td>COURSE</td>\n",
       "      <td>23 Aug 2017 12:00</td>\n",
       "      <td>1</td>\n",
       "      <td>VF</td>\n",
       "      <td>Network Address Translation (NAT) for Cisco CC...</td>\n",
       "      <td>...</td>\n",
       "      <td>1.03323e+07</td>\n",
       "      <td>BENJAMIN.DAVIES@VODAFONE.COM</td>\n",
       "      <td>CONTINUOUS ONLINE ACCESS</td>\n",
       "      <td>Local Technology (TE00)</td>\n",
       "      <td>Transport Operations (GB07017010)</td>\n",
       "      <td>TE</td>\n",
       "      <td>H</td>\n",
       "      <td>Networks</td>\n",
       "      <td>At Customer Location (UK617)</td>\n",
       "      <td>NaN</td>\n",
       "    </tr>\n",
       "    <tr>\n",
       "      <th>3</th>\n",
       "      <td>10250246</td>\n",
       "      <td>Ford</td>\n",
       "      <td>Graeme</td>\n",
       "      <td>GRAEME.FORD@VODAFONE.COM</td>\n",
       "      <td>20204605</td>\n",
       "      <td>COURSE</td>\n",
       "      <td>23 Aug 2017 12:00</td>\n",
       "      <td>1</td>\n",
       "      <td>VF</td>\n",
       "      <td>Access Control Lists (ACLs) for Cisco CCNA 200...</td>\n",
       "      <td>...</td>\n",
       "      <td>1.03323e+07</td>\n",
       "      <td>BENJAMIN.DAVIES@VODAFONE.COM</td>\n",
       "      <td>CONTINUOUS ONLINE ACCESS</td>\n",
       "      <td>Local Technology (TE00)</td>\n",
       "      <td>Transport Operations (GB07017010)</td>\n",
       "      <td>TE</td>\n",
       "      <td>H</td>\n",
       "      <td>Networks</td>\n",
       "      <td>At Customer Location (UK617)</td>\n",
       "      <td>NaN</td>\n",
       "    </tr>\n",
       "    <tr>\n",
       "      <th>4</th>\n",
       "      <td>10250246</td>\n",
       "      <td>Ford</td>\n",
       "      <td>Graeme</td>\n",
       "      <td>GRAEME.FORD@VODAFONE.COM</td>\n",
       "      <td>1030157725</td>\n",
       "      <td>COURSE</td>\n",
       "      <td>23 Aug 2017 12:00</td>\n",
       "      <td>1</td>\n",
       "      <td>VF</td>\n",
       "      <td>Securing the Switch for Cisco CCNA 200-125/100...</td>\n",
       "      <td>...</td>\n",
       "      <td>1.03323e+07</td>\n",
       "      <td>BENJAMIN.DAVIES@VODAFONE.COM</td>\n",
       "      <td>CONTINUOUS ONLINE ACCESS</td>\n",
       "      <td>Local Technology (TE00)</td>\n",
       "      <td>Transport Operations (GB07017010)</td>\n",
       "      <td>TE</td>\n",
       "      <td>H</td>\n",
       "      <td>Networks</td>\n",
       "      <td>At Customer Location (UK617)</td>\n",
       "      <td>NaN</td>\n",
       "    </tr>\n",
       "    <tr>\n",
       "      <th>...</th>\n",
       "      <td>...</td>\n",
       "      <td>...</td>\n",
       "      <td>...</td>\n",
       "      <td>...</td>\n",
       "      <td>...</td>\n",
       "      <td>...</td>\n",
       "      <td>...</td>\n",
       "      <td>...</td>\n",
       "      <td>...</td>\n",
       "      <td>...</td>\n",
       "      <td>...</td>\n",
       "      <td>...</td>\n",
       "      <td>...</td>\n",
       "      <td>...</td>\n",
       "      <td>...</td>\n",
       "      <td>...</td>\n",
       "      <td>...</td>\n",
       "      <td>...</td>\n",
       "      <td>...</td>\n",
       "      <td>...</td>\n",
       "      <td>...</td>\n",
       "    </tr>\n",
       "    <tr>\n",
       "      <th>78301</th>\n",
       "      <td>VF00WM00028494</td>\n",
       "      <td>Agrawal</td>\n",
       "      <td>Chandarani</td>\n",
       "      <td>chanda_rani@rediffmail.com</td>\n",
       "      <td>1638001</td>\n",
       "      <td>COURSE</td>\n",
       "      <td>16 Oct 2017 06:26</td>\n",
       "      <td>1</td>\n",
       "      <td>VF</td>\n",
       "      <td>Perspectives</td>\n",
       "      <td>...</td>\n",
       "      <td>11297230</td>\n",
       "      <td>SANDEEP.SHENOLIKAR@VODAFONE.COM</td>\n",
       "      <td>CONTINUOUS ONLINE ACCESS</td>\n",
       "      <td>HR</td>\n",
       "      <td>NaN</td>\n",
       "      <td>NaN</td>\n",
       "      <td>NaN</td>\n",
       "      <td>NaN</td>\n",
       "      <td>NaN</td>\n",
       "      <td>REQ</td>\n",
       "    </tr>\n",
       "    <tr>\n",
       "      <th>78302</th>\n",
       "      <td>VF00WM00028494</td>\n",
       "      <td>Agrawal</td>\n",
       "      <td>Chandarani</td>\n",
       "      <td>chanda_rani@rediffmail.com</td>\n",
       "      <td>2120002</td>\n",
       "      <td>COURSE</td>\n",
       "      <td>22 Nov 2017 05:33</td>\n",
       "      <td>1</td>\n",
       "      <td>VF_GB01</td>\n",
       "      <td>UK Business Continuity Management</td>\n",
       "      <td>...</td>\n",
       "      <td>11297230</td>\n",
       "      <td>SANDEEP.SHENOLIKAR@VODAFONE.COM</td>\n",
       "      <td>CONTINUOUS ONLINE ACCESS</td>\n",
       "      <td>NaN</td>\n",
       "      <td>NaN</td>\n",
       "      <td>HR</td>\n",
       "      <td>NaN</td>\n",
       "      <td>NaN</td>\n",
       "      <td>NaN</td>\n",
       "      <td>NaN</td>\n",
       "    </tr>\n",
       "    <tr>\n",
       "      <th>78303</th>\n",
       "      <td>VF00WM00028743</td>\n",
       "      <td>Bateman</td>\n",
       "      <td>Paul</td>\n",
       "      <td>PIBATEMAN@HOTMAIL.CO.UK</td>\n",
       "      <td>2120002</td>\n",
       "      <td>COURSE</td>\n",
       "      <td>22 Nov 2017 05:33</td>\n",
       "      <td>1</td>\n",
       "      <td>VF_GB01</td>\n",
       "      <td>UK Business Continuity Management</td>\n",
       "      <td>...</td>\n",
       "      <td>11306316</td>\n",
       "      <td>ANIL.DEOL@VODAFONE.COM</td>\n",
       "      <td>CONTINUOUS ONLINE ACCESS</td>\n",
       "      <td>NaN</td>\n",
       "      <td>NaN</td>\n",
       "      <td>HR</td>\n",
       "      <td>NaN</td>\n",
       "      <td>NaN</td>\n",
       "      <td>NaN</td>\n",
       "      <td>NaN</td>\n",
       "    </tr>\n",
       "    <tr>\n",
       "      <th>78304</th>\n",
       "      <td>VF00WM00028743</td>\n",
       "      <td>Bateman</td>\n",
       "      <td>Paul</td>\n",
       "      <td>PIBATEMAN@HOTMAIL.CO.UK</td>\n",
       "      <td>1638001</td>\n",
       "      <td>COURSE</td>\n",
       "      <td>16 Oct 2017 06:26</td>\n",
       "      <td>1</td>\n",
       "      <td>VF</td>\n",
       "      <td>Perspectives</td>\n",
       "      <td>...</td>\n",
       "      <td>11306316</td>\n",
       "      <td>ANIL.DEOL@VODAFONE.COM</td>\n",
       "      <td>CONTINUOUS ONLINE ACCESS</td>\n",
       "      <td>HR</td>\n",
       "      <td>NaN</td>\n",
       "      <td>NaN</td>\n",
       "      <td>NaN</td>\n",
       "      <td>NaN</td>\n",
       "      <td>NaN</td>\n",
       "      <td>REQ</td>\n",
       "    </tr>\n",
       "    <tr>\n",
       "      <th>78305</th>\n",
       "      <td>WARDA.ABDELGHOFFAR</td>\n",
       "      <td>Abdelghoffar</td>\n",
       "      <td>Warda</td>\n",
       "      <td>warda.abdelghoffar@vodafone.com</td>\n",
       "      <td>6265096</td>\n",
       "      <td>COURSE</td>\n",
       "      <td>18 Apr 2019 13:48</td>\n",
       "      <td>1</td>\n",
       "      <td>VF</td>\n",
       "      <td>Vodafone Business - Introduction to Salesforce...</td>\n",
       "      <td>...</td>\n",
       "      <td>NaN</td>\n",
       "      <td>NaN</td>\n",
       "      <td>CONTINUOUS ONLINE ACCESS</td>\n",
       "      <td>SF</td>\n",
       "      <td>NaN</td>\n",
       "      <td>NaN</td>\n",
       "      <td>NaN</td>\n",
       "      <td>NaN</td>\n",
       "      <td>VGA France</td>\n",
       "      <td>NaN</td>\n",
       "    </tr>\n",
       "  </tbody>\n",
       "</table>\n",
       "<p>78306 rows × 31 columns</p>\n",
       "</div>"
      ],
      "text/plain": [
       "                  STUD_ID         LNAME       FNAME  \\\n",
       "0                10250246          Ford      Graeme   \n",
       "1                10250246          Ford      Graeme   \n",
       "2                10250246          Ford      Graeme   \n",
       "3                10250246          Ford      Graeme   \n",
       "4                10250246          Ford      Graeme   \n",
       "...                   ...           ...         ...   \n",
       "78301      VF00WM00028494       Agrawal  Chandarani   \n",
       "78302      VF00WM00028494       Agrawal  Chandarani   \n",
       "78303      VF00WM00028743       Bateman        Paul   \n",
       "78304      VF00WM00028743       Bateman        Paul   \n",
       "78305  WARDA.ABDELGHOFFAR  Abdelghoffar       Warda   \n",
       "\n",
       "                            EMAIL_ADDR     ITEM ID ITEM TYPE  \\\n",
       "0             GRAEME.FORD@VODAFONE.COM     6265740    COURSE   \n",
       "1             GRAEME.FORD@VODAFONE.COM  1760779857    COURSE   \n",
       "2             GRAEME.FORD@VODAFONE.COM  1201269208    COURSE   \n",
       "3             GRAEME.FORD@VODAFONE.COM    20204605    COURSE   \n",
       "4             GRAEME.FORD@VODAFONE.COM  1030157725    COURSE   \n",
       "...                                ...         ...       ...   \n",
       "78301       chanda_rani@rediffmail.com     1638001    COURSE   \n",
       "78302       chanda_rani@rediffmail.com     2120002    COURSE   \n",
       "78303          PIBATEMAN@HOTMAIL.CO.UK     2120002    COURSE   \n",
       "78304          PIBATEMAN@HOTMAIL.CO.UK     1638001    COURSE   \n",
       "78305  warda.abdelghoffar@vodafone.com     6265096    COURSE   \n",
       "\n",
       "                 REV_DTE  REV_NUM ITEM Market\\r\\n  \\\n",
       "0       5 Jun 2019 05:34        1         VF_GB01   \n",
       "1      23 Aug 2017 12:00        1              VF   \n",
       "2      23 Aug 2017 12:00        1              VF   \n",
       "3      23 Aug 2017 12:00        1              VF   \n",
       "4      23 Aug 2017 12:00        1              VF   \n",
       "...                  ...      ...             ...   \n",
       "78301  16 Oct 2017 06:26        1              VF   \n",
       "78302  22 Nov 2017 05:33        1         VF_GB01   \n",
       "78303  22 Nov 2017 05:33        1         VF_GB01   \n",
       "78304  16 Oct 2017 06:26        1              VF   \n",
       "78305  18 Apr 2019 13:48        1              VF   \n",
       "\n",
       "                                              Item Title  ...      Manager  \\\n",
       "0                              What: Future Capabilities  ...  1.03323e+07   \n",
       "1      TCP and UDP Operation for Cisco CCNA 200-125/1...  ...  1.03323e+07   \n",
       "2      Network Address Translation (NAT) for Cisco CC...  ...  1.03323e+07   \n",
       "3      Access Control Lists (ACLs) for Cisco CCNA 200...  ...  1.03323e+07   \n",
       "4      Securing the Switch for Cisco CCNA 200-125/100...  ...  1.03323e+07   \n",
       "...                                                  ...  ...          ...   \n",
       "78301                                       Perspectives  ...     11297230   \n",
       "78302                  UK Business Continuity Management  ...     11297230   \n",
       "78303                  UK Business Continuity Management  ...     11306316   \n",
       "78304                                       Perspectives  ...     11306316   \n",
       "78305  Vodafone Business - Introduction to Salesforce...  ...          NaN   \n",
       "\n",
       "                        MGR_EMAIL_ADDR         DELIVERY_TYPE\\r\\n  \\\n",
       "0         BENJAMIN.DAVIES@VODAFONE.COM  CONTINUOUS ONLINE ACCESS   \n",
       "1         BENJAMIN.DAVIES@VODAFONE.COM  CONTINUOUS ONLINE ACCESS   \n",
       "2         BENJAMIN.DAVIES@VODAFONE.COM  CONTINUOUS ONLINE ACCESS   \n",
       "3         BENJAMIN.DAVIES@VODAFONE.COM  CONTINUOUS ONLINE ACCESS   \n",
       "4         BENJAMIN.DAVIES@VODAFONE.COM  CONTINUOUS ONLINE ACCESS   \n",
       "...                                ...                       ...   \n",
       "78301  SANDEEP.SHENOLIKAR@VODAFONE.COM  CONTINUOUS ONLINE ACCESS   \n",
       "78302  SANDEEP.SHENOLIKAR@VODAFONE.COM  CONTINUOUS ONLINE ACCESS   \n",
       "78303           ANIL.DEOL@VODAFONE.COM  CONTINUOUS ONLINE ACCESS   \n",
       "78304           ANIL.DEOL@VODAFONE.COM  CONTINUOUS ONLINE ACCESS   \n",
       "78305                              NaN  CONTINUOUS ONLINE ACCESS   \n",
       "\n",
       "                       ACADEMY                         LOCAL_CODE  \\\n",
       "0                           TE                                NaN   \n",
       "1      Local Technology (TE00)  Transport Operations (GB07017010)   \n",
       "2      Local Technology (TE00)  Transport Operations (GB07017010)   \n",
       "3      Local Technology (TE00)  Transport Operations (GB07017010)   \n",
       "4      Local Technology (TE00)  Transport Operations (GB07017010)   \n",
       "...                        ...                                ...   \n",
       "78301                       HR                                NaN   \n",
       "78302                      NaN                                NaN   \n",
       "78303                      NaN                                NaN   \n",
       "78304                       HR                                NaN   \n",
       "78305                       SF                                NaN   \n",
       "\n",
       "                      FUNCTION  BAND                         COSTCENTRE  \\\n",
       "0      Local Technology (TE00)     H  Transport Operations (GB07017010)   \n",
       "1                           TE     H                           Networks   \n",
       "2                           TE     H                           Networks   \n",
       "3                           TE     H                           Networks   \n",
       "4                           TE     H                           Networks   \n",
       "...                        ...   ...                                ...   \n",
       "78301                      NaN   NaN                                NaN   \n",
       "78302                       HR   NaN                                NaN   \n",
       "78303                       HR   NaN                                NaN   \n",
       "78304                      NaN   NaN                                NaN   \n",
       "78305                      NaN   NaN                                NaN   \n",
       "\n",
       "                      User_Location Assignment_TYPE  \n",
       "0      At Customer Location (UK617)             NaN  \n",
       "1      At Customer Location (UK617)             NaN  \n",
       "2      At Customer Location (UK617)             NaN  \n",
       "3      At Customer Location (UK617)             NaN  \n",
       "4      At Customer Location (UK617)             NaN  \n",
       "...                             ...             ...  \n",
       "78301                           NaN             REQ  \n",
       "78302                           NaN             NaN  \n",
       "78303                           NaN             NaN  \n",
       "78304                           NaN             REQ  \n",
       "78305                    VGA France             NaN  \n",
       "\n",
       "[78306 rows x 31 columns]"
      ]
     },
     "execution_count": null,
     "metadata": {},
     "output_type": "execute_result"
    }
   ],
   "source": [
    "foo = azure_blob_storage.blob_to_df(container_name='vfu-lms-assets-in-progress-raw',\n",
    "                                    blob_name='report - 2019-12-11T145951.809.csv')\n",
    "foo"
   ]
  },
  {
   "cell_type": "code",
   "execution_count": null,
   "metadata": {},
   "outputs": [
    {
     "ename": "ValueError",
     "evalue": "ITEM Market\\r\\n not present in dataframe columns!",
     "output_type": "error",
     "traceback": [
      "\u001b[0;31m---------------------------------------------------------------------------\u001b[0m",
      "\u001b[0;31mValueError\u001b[0m                                Traceback (most recent call last)",
      "\u001b[0;32m<ipython-input-31-ee6007d21d8c>\u001b[0m in \u001b[0;36m<module>\u001b[0;34m\u001b[0m\n\u001b[0;32m----> 1\u001b[0;31m lms_assets_in_progress_raw = (pd.DataFrame()\n\u001b[0m\u001b[1;32m      2\u001b[0m                               \u001b[0;34m.\u001b[0m\u001b[0mstep_load_entity_definition\u001b[0m\u001b[0;34m(\u001b[0m\u001b[0;34m)\u001b[0m\u001b[0;34m\u001b[0m\u001b[0;34m\u001b[0m\u001b[0m\n\u001b[1;32m      3\u001b[0m                               \u001b[0;34m.\u001b[0m\u001b[0mstep_load_raw_data\u001b[0m\u001b[0;34m(\u001b[0m\u001b[0;34m)\u001b[0m\u001b[0;34m\u001b[0m\u001b[0;34m\u001b[0m\u001b[0m\n\u001b[1;32m      4\u001b[0m                               \u001b[0;34m.\u001b[0m\u001b[0mstep_rename_columns\u001b[0m\u001b[0;34m(\u001b[0m\u001b[0;34m)\u001b[0m\u001b[0;34m\u001b[0m\u001b[0;34m\u001b[0m\u001b[0m\n\u001b[1;32m      5\u001b[0m                              )\n",
      "\u001b[0;32m~/opt/anaconda3/envs/vfu/lib/python3.7/site-packages/pandas_flavor/register.py\u001b[0m in \u001b[0;36m__call__\u001b[0;34m(self, *args, **kwargs)\u001b[0m\n\u001b[1;32m     27\u001b[0m             \u001b[0;34m@\u001b[0m\u001b[0mwraps\u001b[0m\u001b[0;34m(\u001b[0m\u001b[0mmethod\u001b[0m\u001b[0;34m)\u001b[0m\u001b[0;34m\u001b[0m\u001b[0;34m\u001b[0m\u001b[0m\n\u001b[1;32m     28\u001b[0m             \u001b[0;32mdef\u001b[0m \u001b[0m__call__\u001b[0m\u001b[0;34m(\u001b[0m\u001b[0mself\u001b[0m\u001b[0;34m,\u001b[0m \u001b[0;34m*\u001b[0m\u001b[0margs\u001b[0m\u001b[0;34m,\u001b[0m \u001b[0;34m**\u001b[0m\u001b[0mkwargs\u001b[0m\u001b[0;34m)\u001b[0m\u001b[0;34m:\u001b[0m\u001b[0;34m\u001b[0m\u001b[0;34m\u001b[0m\u001b[0m\n\u001b[0;32m---> 29\u001b[0;31m                 \u001b[0;32mreturn\u001b[0m \u001b[0mmethod\u001b[0m\u001b[0;34m(\u001b[0m\u001b[0mself\u001b[0m\u001b[0;34m.\u001b[0m\u001b[0m_obj\u001b[0m\u001b[0;34m,\u001b[0m \u001b[0;34m*\u001b[0m\u001b[0margs\u001b[0m\u001b[0;34m,\u001b[0m \u001b[0;34m**\u001b[0m\u001b[0mkwargs\u001b[0m\u001b[0;34m)\u001b[0m\u001b[0;34m\u001b[0m\u001b[0;34m\u001b[0m\u001b[0m\n\u001b[0m\u001b[1;32m     30\u001b[0m \u001b[0;34m\u001b[0m\u001b[0m\n\u001b[1;32m     31\u001b[0m         \u001b[0mregister_dataframe_accessor\u001b[0m\u001b[0;34m(\u001b[0m\u001b[0mmethod\u001b[0m\u001b[0;34m.\u001b[0m\u001b[0m__name__\u001b[0m\u001b[0;34m)\u001b[0m\u001b[0;34m(\u001b[0m\u001b[0mAccessorMethod\u001b[0m\u001b[0;34m)\u001b[0m\u001b[0;34m\u001b[0m\u001b[0;34m\u001b[0m\u001b[0m\n",
      "\u001b[0;32m~/Repos/vfu_datapipe/vfu_package/datapipeline.py\u001b[0m in \u001b[0;36mstep_rename_columns\u001b[0;34m(df)\u001b[0m\n\u001b[1;32m    251\u001b[0m         )\n\u001b[1;32m    252\u001b[0m     )\n\u001b[0;32m--> 253\u001b[0;31m     \u001b[0mdf\u001b[0m \u001b[0;34m=\u001b[0m \u001b[0mdf\u001b[0m\u001b[0;34m.\u001b[0m\u001b[0mrename_columns\u001b[0m\u001b[0;34m(\u001b[0m\u001b[0mcolumn_names_mapping\u001b[0m\u001b[0;34m)\u001b[0m\u001b[0;34m\u001b[0m\u001b[0;34m\u001b[0m\u001b[0m\n\u001b[0m\u001b[1;32m    254\u001b[0m     \u001b[0;32mreturn\u001b[0m \u001b[0mdf\u001b[0m\u001b[0;34m\u001b[0m\u001b[0;34m\u001b[0m\u001b[0m\n\u001b[1;32m    255\u001b[0m \u001b[0;34m\u001b[0m\u001b[0m\n",
      "\u001b[0;32m~/opt/anaconda3/envs/vfu/lib/python3.7/site-packages/pandas_flavor/register.py\u001b[0m in \u001b[0;36m__call__\u001b[0;34m(self, *args, **kwargs)\u001b[0m\n\u001b[1;32m     27\u001b[0m             \u001b[0;34m@\u001b[0m\u001b[0mwraps\u001b[0m\u001b[0;34m(\u001b[0m\u001b[0mmethod\u001b[0m\u001b[0;34m)\u001b[0m\u001b[0;34m\u001b[0m\u001b[0;34m\u001b[0m\u001b[0m\n\u001b[1;32m     28\u001b[0m             \u001b[0;32mdef\u001b[0m \u001b[0m__call__\u001b[0m\u001b[0;34m(\u001b[0m\u001b[0mself\u001b[0m\u001b[0;34m,\u001b[0m \u001b[0;34m*\u001b[0m\u001b[0margs\u001b[0m\u001b[0;34m,\u001b[0m \u001b[0;34m**\u001b[0m\u001b[0mkwargs\u001b[0m\u001b[0;34m)\u001b[0m\u001b[0;34m:\u001b[0m\u001b[0;34m\u001b[0m\u001b[0;34m\u001b[0m\u001b[0m\n\u001b[0;32m---> 29\u001b[0;31m                 \u001b[0;32mreturn\u001b[0m \u001b[0mmethod\u001b[0m\u001b[0;34m(\u001b[0m\u001b[0mself\u001b[0m\u001b[0;34m.\u001b[0m\u001b[0m_obj\u001b[0m\u001b[0;34m,\u001b[0m \u001b[0;34m*\u001b[0m\u001b[0margs\u001b[0m\u001b[0;34m,\u001b[0m \u001b[0;34m**\u001b[0m\u001b[0mkwargs\u001b[0m\u001b[0;34m)\u001b[0m\u001b[0;34m\u001b[0m\u001b[0;34m\u001b[0m\u001b[0m\n\u001b[0m\u001b[1;32m     30\u001b[0m \u001b[0;34m\u001b[0m\u001b[0m\n\u001b[1;32m     31\u001b[0m         \u001b[0mregister_dataframe_accessor\u001b[0m\u001b[0;34m(\u001b[0m\u001b[0mmethod\u001b[0m\u001b[0;34m.\u001b[0m\u001b[0m__name__\u001b[0m\u001b[0;34m)\u001b[0m\u001b[0;34m(\u001b[0m\u001b[0mAccessorMethod\u001b[0m\u001b[0;34m)\u001b[0m\u001b[0;34m\u001b[0m\u001b[0;34m\u001b[0m\u001b[0m\n",
      "\u001b[0;32m~/opt/anaconda3/envs/vfu/lib/python3.7/site-packages/janitor/functions.py\u001b[0m in \u001b[0;36mrename_columns\u001b[0;34m(df, new_column_names)\u001b[0m\n\u001b[1;32m    500\u001b[0m     \u001b[0;34m:\u001b[0m\u001b[0mreturns\u001b[0m\u001b[0;34m:\u001b[0m \u001b[0mA\u001b[0m \u001b[0mpandas\u001b[0m \u001b[0mDataFrame\u001b[0m \u001b[0;32mwith\u001b[0m \u001b[0mrenamed\u001b[0m \u001b[0mcolumns\u001b[0m\u001b[0;34m.\u001b[0m\u001b[0;34m\u001b[0m\u001b[0;34m\u001b[0m\u001b[0m\n\u001b[1;32m    501\u001b[0m     \"\"\"\n\u001b[0;32m--> 502\u001b[0;31m     \u001b[0mcheck_column\u001b[0m\u001b[0;34m(\u001b[0m\u001b[0mdf\u001b[0m\u001b[0;34m,\u001b[0m \u001b[0mlist\u001b[0m\u001b[0;34m(\u001b[0m\u001b[0mnew_column_names\u001b[0m\u001b[0;34m.\u001b[0m\u001b[0mkeys\u001b[0m\u001b[0;34m(\u001b[0m\u001b[0;34m)\u001b[0m\u001b[0;34m)\u001b[0m\u001b[0;34m)\u001b[0m\u001b[0;34m\u001b[0m\u001b[0;34m\u001b[0m\u001b[0m\n\u001b[0m\u001b[1;32m    503\u001b[0m \u001b[0;34m\u001b[0m\u001b[0m\n\u001b[1;32m    504\u001b[0m     \u001b[0;32mreturn\u001b[0m \u001b[0mdf\u001b[0m\u001b[0;34m.\u001b[0m\u001b[0mrename\u001b[0m\u001b[0;34m(\u001b[0m\u001b[0mcolumns\u001b[0m\u001b[0;34m=\u001b[0m\u001b[0mnew_column_names\u001b[0m\u001b[0;34m)\u001b[0m\u001b[0;34m\u001b[0m\u001b[0;34m\u001b[0m\u001b[0m\n",
      "\u001b[0;32m~/opt/anaconda3/envs/vfu/lib/python3.7/site-packages/janitor/utils.py\u001b[0m in \u001b[0;36mcheck_column\u001b[0;34m(df, old_column_names, present)\u001b[0m\n\u001b[1;32m    342\u001b[0m             \u001b[0;32mif\u001b[0m \u001b[0mcolumn_name\u001b[0m \u001b[0;32mnot\u001b[0m \u001b[0;32min\u001b[0m \u001b[0mdf\u001b[0m\u001b[0;34m.\u001b[0m\u001b[0mcolumns\u001b[0m\u001b[0;34m:\u001b[0m\u001b[0;34m\u001b[0m\u001b[0;34m\u001b[0m\u001b[0m\n\u001b[1;32m    343\u001b[0m                 raise ValueError(\n\u001b[0;32m--> 344\u001b[0;31m                     \u001b[0;34mf\"{column_name} not present in dataframe columns!\"\u001b[0m\u001b[0;34m\u001b[0m\u001b[0;34m\u001b[0m\u001b[0m\n\u001b[0m\u001b[1;32m    345\u001b[0m                 )\n\u001b[1;32m    346\u001b[0m         \u001b[0;32melse\u001b[0m\u001b[0;34m:\u001b[0m  \u001b[0;31m# Tests for exclusion\u001b[0m\u001b[0;34m\u001b[0m\u001b[0;34m\u001b[0m\u001b[0m\n",
      "\u001b[0;31mValueError\u001b[0m: ITEM Market\\r\\n not present in dataframe columns!"
     ]
    }
   ],
   "source": [
    "lms_assets_in_progress_raw = (pd.DataFrame()\n",
    "                              .step_load_entity_definition()\n",
    "                              .step_load_raw_data()\n",
    "                              .step_rename_columns()\n",
    "                             )"
   ]
  },
  {
   "cell_type": "code",
   "execution_count": null,
   "metadata": {},
   "outputs": [],
   "source": [
    "lms_assets_in_progress_invalid = (lms_assets_in_progress_raw\n",
    "                                  .step_replace_missing_values_with_nan()\n",
    "                                  .step_validate_data()\n",
    "                                  .step_store_invalid_data()\n",
    "                                 )"
   ]
  },
  {
   "cell_type": "code",
   "execution_count": null,
   "metadata": {},
   "outputs": [
    {
     "data": {
      "text/plain": [
       "Index(['STUD_ID', 'LNAME', 'FNAME', 'EMAIL_ADDR', 'ITEM ID', 'ITEM TYPE',\n",
       "       'REV_DTE', 'REV_NUM', 'ITEM Market\\r\\n', 'Item Title', 'Assign Date',\n",
       "       'Status', 'Credit Hours', 'Duration', 'Grade', 'Scheduled Offering ID',\n",
       "       'Instructor Name', 'ITEM_SOURCE', 'USER MARKET', 'ORG_ID', 'ORG_DESC',\n",
       "       'Manager', 'MGR_EMAIL_ADDR', 'DELIVERY_TYPE\\r\\n', 'ACADEMY',\n",
       "       'LOCAL_CODE', 'FUNCTION', 'BAND', 'COSTCENTRE', 'User_Location',\n",
       "       'Assignment_TYPE'],\n",
       "      dtype='object')"
      ]
     },
     "execution_count": null,
     "metadata": {},
     "output_type": "execute_result"
    }
   ],
   "source": [
    "lms_assets_in_progress_raw.columns"
   ]
  },
  {
   "cell_type": "code",
   "execution_count": null,
   "metadata": {},
   "outputs": [
    {
     "data": {
      "text/plain": [
       "(0, 32)"
      ]
     },
     "execution_count": null,
     "metadata": {},
     "output_type": "execute_result"
    }
   ],
   "source": [
    "lms_assets_in_progress_cleaned = (lms_assets_in_progress_raw\n",
    "                                  .step_replace_missing_values_with_nan()\n",
    "                                  .step_remove_not_needed_columns()\n",
    "                                  .step_remove_rows_with_invalid_ids()\n",
    "                                  .step_remove_duplicate_rows()\n",
    "                                  .step_format_dates(cols=['completion_date'])\n",
    "                                  .step_consolidate_lms_item_assignment_types(col='assignment_type')\n",
    "                                  .step_change_datatypes()\n",
    "                                  .step_store_cleaned_data()\n",
    "                                 )"
   ]
  },
  {
   "cell_type": "markdown",
   "metadata": {},
   "source": [
    "### user profiles"
   ]
  },
  {
   "cell_type": "code",
   "execution_count": null,
   "metadata": {},
   "outputs": [],
   "source": [
    "azure_blob_storage.list_all_blobs(container_name='vfu-user-profiles-raw')"
   ]
  },
  {
   "cell_type": "code",
   "execution_count": null,
   "metadata": {},
   "outputs": [],
   "source": [
    "user_profiles_old = azure_blob_storage.blob_to_df(container_name='vfu-user-profiles-raw', blob_name='vfu-user-profiles-raw.json')"
   ]
  },
  {
   "cell_type": "code",
   "execution_count": null,
   "metadata": {},
   "outputs": [],
   "source": [
    "user_profiles_weekly = azure_blob_storage.blob_to_df(container_name='vfu-user-profiles-raw', blob_name='vfu-user-profiles-weekly-raw.json')"
   ]
  },
  {
   "cell_type": "code",
   "execution_count": null,
   "metadata": {},
   "outputs": [
    {
     "data": {
      "text/plain": [
       "array([nan])"
      ]
     },
     "execution_count": null,
     "metadata": {},
     "output_type": "execute_result"
    }
   ],
   "source": [
    "user_profiles_weekly[user_profiles_weekly.VFLPLOCALMARKET == 'UK'].EMPLOYEEID.unique()"
   ]
  },
  {
   "cell_type": "code",
   "execution_count": null,
   "metadata": {},
   "outputs": [],
   "source": [
    "user_profiles_weekly.shape"
   ]
  },
  {
   "cell_type": "code",
   "execution_count": null,
   "metadata": {},
   "outputs": [],
   "source": [
    "user_profiles_old[(user_profiles_old.VFUCAREERGROUP.notnull()) & (user_profiles_old.VFLPLOCALMARKET == 'UK')].shape"
   ]
  },
  {
   "cell_type": "markdown",
   "metadata": {},
   "source": [
    "### step_summarize_if(df)"
   ]
  },
  {
   "cell_type": "code",
   "execution_count": null,
   "metadata": {},
   "outputs": [],
   "source": [
    "import numpy as np\n",
    "import pandas as pd\n",
    "import pandas_flavor as pf"
   ]
  },
  {
   "cell_type": "code",
   "execution_count": null,
   "metadata": {},
   "outputs": [
    {
     "data": {
      "text/html": [
       "<div>\n",
       "<style scoped>\n",
       "    .dataframe tbody tr th:only-of-type {\n",
       "        vertical-align: middle;\n",
       "    }\n",
       "\n",
       "    .dataframe tbody tr th {\n",
       "        vertical-align: top;\n",
       "    }\n",
       "\n",
       "    .dataframe thead th {\n",
       "        text-align: right;\n",
       "    }\n",
       "</style>\n",
       "<table border=\"1\" class=\"dataframe\">\n",
       "  <thead>\n",
       "    <tr style=\"text-align: right;\">\n",
       "      <th></th>\n",
       "      <th>first_name</th>\n",
       "      <th>last_name</th>\n",
       "      <th>age</th>\n",
       "      <th>preTestScore</th>\n",
       "      <th>postTestScore</th>\n",
       "    </tr>\n",
       "  </thead>\n",
       "  <tbody>\n",
       "    <tr>\n",
       "      <th>0</th>\n",
       "      <td>Jason</td>\n",
       "      <td>Miller</td>\n",
       "      <td>42</td>\n",
       "      <td>4</td>\n",
       "      <td>25</td>\n",
       "    </tr>\n",
       "    <tr>\n",
       "      <th>1</th>\n",
       "      <td>Molly</td>\n",
       "      <td>Jacobson</td>\n",
       "      <td>52</td>\n",
       "      <td>24</td>\n",
       "      <td>94</td>\n",
       "    </tr>\n",
       "    <tr>\n",
       "      <th>2</th>\n",
       "      <td>Tina</td>\n",
       "      <td>Ali</td>\n",
       "      <td>36</td>\n",
       "      <td>31</td>\n",
       "      <td>57</td>\n",
       "    </tr>\n",
       "    <tr>\n",
       "      <th>3</th>\n",
       "      <td>Jake</td>\n",
       "      <td>Milner</td>\n",
       "      <td>24</td>\n",
       "      <td>2</td>\n",
       "      <td>62</td>\n",
       "    </tr>\n",
       "    <tr>\n",
       "      <th>4</th>\n",
       "      <td>Amy</td>\n",
       "      <td>Cooze</td>\n",
       "      <td>73</td>\n",
       "      <td>3</td>\n",
       "      <td>70</td>\n",
       "    </tr>\n",
       "  </tbody>\n",
       "</table>\n",
       "</div>"
      ],
      "text/plain": [
       "  first_name last_name  age  preTestScore  postTestScore\n",
       "0      Jason    Miller   42             4             25\n",
       "1      Molly  Jacobson   52            24             94\n",
       "2       Tina       Ali   36            31             57\n",
       "3       Jake    Milner   24             2             62\n",
       "4        Amy     Cooze   73             3             70"
      ]
     },
     "execution_count": null,
     "metadata": {},
     "output_type": "execute_result"
    }
   ],
   "source": [
    "raw_data = {'first_name': ['Jason', 'Molly', 'Tina', 'Jake', 'Amy'], \n",
    "        'last_name': ['Miller', 'Jacobson', 'Ali', 'Milner', 'Cooze'], \n",
    "        'age': [42, 52, 36, 24, 73], \n",
    "        'preTestScore': [4, 24, 31, 2, 3],\n",
    "        'postTestScore': [25, 94, 57, 62, 70]}\n",
    "df = pd.DataFrame(raw_data, columns = ['first_name', 'last_name', 'age', 'preTestScore', 'postTestScore'])\n",
    "df"
   ]
  },
  {
   "cell_type": "code",
   "execution_count": null,
   "metadata": {},
   "outputs": [
    {
     "data": {
      "text/plain": [
       "sys.version_info(major=3, minor=7, micro=4, releaselevel='final', serial=0)"
      ]
     },
     "execution_count": null,
     "metadata": {},
     "output_type": "execute_result"
    }
   ],
   "source": [
    "import sys\n",
    "sys.version_info"
   ]
  },
  {
   "cell_type": "code",
   "execution_count": null,
   "metadata": {},
   "outputs": [
    {
     "ename": "SyntaxError",
     "evalue": "invalid syntax (<ipython-input-5-77ddb247c5cc>, line 1)",
     "output_type": "error",
     "traceback": [
      "\u001b[0;36m  File \u001b[0;32m\"<ipython-input-5-77ddb247c5cc>\"\u001b[0;36m, line \u001b[0;32m1\u001b[0m\n\u001b[0;31m    [x:= x**2 for x in [1, 2, 3, 4, 5]]\u001b[0m\n\u001b[0m      ^\u001b[0m\n\u001b[0;31mSyntaxError\u001b[0m\u001b[0;31m:\u001b[0m invalid syntax\n"
     ]
    }
   ],
   "source": [
    "[x:= x**2 for x in [1, 2, 3, 4, 5]]"
   ]
  },
  {
   "cell_type": "code",
   "execution_count": null,
   "metadata": {},
   "outputs": [
    {
     "ename": "SyntaxError",
     "evalue": "invalid syntax (<ipython-input-4-041e39f263b2>, line 8)",
     "output_type": "error",
     "traceback": [
      "\u001b[0;36m  File \u001b[0;32m\"<ipython-input-4-041e39f263b2>\"\u001b[0;36m, line \u001b[0;32m8\u001b[0m\n\u001b[0;31m    [df[f'{col}_{f.__name__}'] := f(df[col].values) for col in cols for f in funs]\u001b[0m\n\u001b[0m                               ^\u001b[0m\n\u001b[0;31mSyntaxError\u001b[0m\u001b[0;31m:\u001b[0m invalid syntax\n"
     ]
    }
   ],
   "source": [
    "@pf.register_dataframe_method\n",
    "def step_summarize_if(df, cond, funs):\n",
    "    if cond == 'all_numeric':\n",
    "        cols = df.select_dtypes(include=np.number)\n",
    "    else:\n",
    "        df = df.query(cond)\n",
    "        \n",
    "    [df[f'{col}_{f.__name__}'] := f(df[col].values) for col in cols for f in funs]\n",
    "    \n",
    "    return df"
   ]
  },
  {
   "cell_type": "code",
   "execution_count": null,
   "metadata": {},
   "outputs": [],
   "source": [
    "df = df.step_summarize_if(cond = 'all_numeric', funs=[np.mean, np.median, np.std])\n",
    "df"
   ]
  },
  {
   "cell_type": "code",
   "execution_count": null,
   "metadata": {},
   "outputs": [],
   "source": [
    "df"
   ]
  },
  {
   "cell_type": "code",
   "execution_count": null,
   "metadata": {},
   "outputs": [],
   "source": [
    "cond = 'df.select_dtypes(include=np.number)'\n",
    "pd.eval('df[\"first_name\"]')"
   ]
  },
  {
   "cell_type": "code",
   "execution_count": null,
   "metadata": {},
   "outputs": [],
   "source": []
  }
 ],
 "metadata": {
  "kernelspec": {
   "display_name": "Python 3",
   "language": "python",
   "name": "python3"
  }
 },
 "nbformat": 4,
 "nbformat_minor": 4
}
